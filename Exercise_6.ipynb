{
  "cells": [
    {
      "cell_type": "code",
      "execution_count": 5,
      "metadata": {
        "id": "kfuF6p5pLAFC"
      },
      "outputs": [],
      "source": [
        "import pandas as pd\n",
        "import matplotlib.pyplot as plt \n",
        "%matplotlib inline"
      ]
    },
    {
      "cell_type": "markdown",
      "metadata": {
        "id": "fuLvnG60K2H8"
      },
      "source": [
        "**Question-1:** Read NIRF data as given in Dataset tab on Google Classroom"
      ]
    },
    {
      "cell_type": "code",
      "execution_count": 7,
      "metadata": {
        "colab": {
          "base_uri": "https://localhost:8080/"
        },
        "id": "Cq6JICXcK-cY",
        "outputId": "79d7cf18-47cf-4531-cc4c-5d89ca53ded5"
      },
      "outputs": [
        {
          "output_type": "stream",
          "name": "stdout",
          "text": [
            "     institute_id                                               name  \\\n",
            "0     IR-E-U-0456              Indian Institute of Technology Madras   \n",
            "1     IR-E-I-1074               Indian Institute of Technology Delhi   \n",
            "2     IR-E-U-0306              Indian Institute of Technology Bombay   \n",
            "3     IR-E-I-1075              Indian Institute of Technology Kanpur   \n",
            "4     IR-E-U-0573           Indian Institute of Technology Kharagpur   \n",
            "..            ...                                                ...   \n",
            "195  IR-E-C-42227            Dr. D. Y. Patil Institute of Technology   \n",
            "196  IR-E-C-49660            Pimpri Chinchwad College of Engineering   \n",
            "197  IR-E-C-34167                Ramrao Adik Institute of Technology   \n",
            "198  IR-E-C-48145                                    BVRIT Hyderabad   \n",
            "199   IR-E-U-0615  National Institute of Technology Arunachal Pra...   \n",
            "\n",
            "                                                  link    tlr    rpc     go  \\\n",
            "0    https://nirfcdn.azureedge.net/2020/pdf/Enginee...  95.42  94.64  83.90   \n",
            "1    https://nirfcdn.azureedge.net/2020/pdf/Enginee...  90.79  96.15  80.36   \n",
            "2    https://nirfcdn.azureedge.net/2020/pdf/Enginee...  91.00  93.37  77.60   \n",
            "3    https://nirfcdn.azureedge.net/2020/pdf/Enginee...  86.22  82.08  88.44   \n",
            "4    https://nirfcdn.azureedge.net/2020/pdf/Enginee...  77.32  87.11  83.21   \n",
            "..                                                 ...    ...    ...    ...   \n",
            "195  https://nirfcdn.azureedge.net/2020/pdf/Enginee...  49.69   1.66  53.63   \n",
            "196  https://nirfcdn.azureedge.net/2020/pdf/Enginee...  46.11   7.36  50.73   \n",
            "197  https://nirfcdn.azureedge.net/2020/pdf/Enginee...  53.60   3.82  45.75   \n",
            "198  https://nirfcdn.azureedge.net/2020/pdf/Enginee...  49.16   0.46  53.74   \n",
            "199  https://nirfcdn.azureedge.net/2020/pdf/Enginee...  50.56   9.06  39.36   \n",
            "\n",
            "        oi  perception         city              state  score  rank  \n",
            "0    61.31      100.00      Chennai         Tamil Nadu  89.93     1  \n",
            "1    64.81       94.46    New Delhi              Delhi  88.08     2  \n",
            "2    49.99       92.51       Mumbai        Maharashtra  85.08     3  \n",
            "3    54.21       85.78       Kanpur      Uttar Pradesh  82.18     4  \n",
            "4    56.62       89.31    Kharagpur        West Bengal  80.56     5  \n",
            "..     ...         ...          ...                ...    ...   ...  \n",
            "195  48.50        1.63         Pune        Maharashtra  31.15   196  \n",
            "196  48.76        0.55         Pune        Maharashtra  31.13   197  \n",
            "197  47.25        0.00  Navi Mumbai        Maharashtra  31.11   198  \n",
            "198  52.98        1.63    Hyderabad          Telangana  31.10   199  \n",
            "199  46.21        7.12     Itanagar  Arunachal Pradesh  31.09   200  \n",
            "\n",
            "[200 rows x 12 columns]\n"
          ]
        }
      ],
      "source": [
        "data = pd.read_csv('nirf_data.csv') \n",
        "print(data)"
      ]
    },
    {
      "cell_type": "markdown",
      "metadata": {
        "id": "WNDftLMONIx2"
      },
      "source": [
        "**Question-2:** Group the data statewise and Count the number of colleges in each state."
      ]
    },
    {
      "cell_type": "code",
      "execution_count": null,
      "metadata": {
        "colab": {
          "base_uri": "https://localhost:8080/"
        },
        "id": "AwLo8TKZNRki",
        "outputId": "998bccc8-487d-4b09-d6a5-0f9aa012e22f"
      },
      "outputs": [
        {
          "output_type": "stream",
          "name": "stdout",
          "text": [
            "                state  Count\n",
            "0      Andhra Pradesh     10\n",
            "1   Arunachal Pradesh      2\n",
            "2               Assam      3\n",
            "3               Bihar      2\n",
            "4          Chandigarh      2\n",
            "5        Chhattisgarh      1\n",
            "6               Delhi      7\n",
            "7                 Goa      1\n",
            "8             Gujarat      7\n",
            "9             Haryana      6\n",
            "10   Himachal Pradesh      4\n",
            "11  Jammu and Kashmir      1\n",
            "12          Jharkhand      4\n",
            "13          Karnataka     21\n",
            "14             Kerala      5\n",
            "15     Madhya Pradesh      5\n",
            "16        Maharashtra     22\n",
            "17            Manipur      1\n",
            "18          Meghalaya      1\n",
            "19             Odisha      7\n",
            "20        Pondicherry      2\n",
            "21             Punjab      8\n",
            "22          Rajasthan      4\n",
            "23         Tamil Nadu     35\n",
            "24          Telangana     15\n",
            "25            Tripura      1\n",
            "26      Uttar Pradesh     11\n",
            "27        Uttarakhand      4\n",
            "28        West Bengal      8\n"
          ]
        }
      ],
      "source": [
        "data_set = data.groupby('state').size().reset_index(name='Count')\n",
        "print(data_set)"
      ]
    },
    {
      "cell_type": "markdown",
      "metadata": {
        "id": "nJuh3-MlSLdx"
      },
      "source": [
        "**Question-3:** Sort the records based on rpc attribute (Research Professional practices)."
      ]
    },
    {
      "cell_type": "code",
      "execution_count": null,
      "metadata": {
        "colab": {
          "base_uri": "https://localhost:8080/"
        },
        "id": "dGh9cYQeSO3y",
        "outputId": "a340676f-2fba-4aaa-fd38-cf0c2b620c9a"
      },
      "outputs": [
        {
          "output_type": "stream",
          "name": "stdout",
          "text": [
            "     institute_id                                      name  \\\n",
            "198  IR-E-C-48145                           BVRIT Hyderabad   \n",
            "146   IR-E-C-1345              P E S College of Engineering   \n",
            "186  IR-E-C-26162             Vasavi College of Engineering   \n",
            "185   IR-E-C-1398               BNM Institute of Technology   \n",
            "189  IR-E-C-26905         G.Pulla Reddy Engineering College   \n",
            "..            ...                                       ...   \n",
            "3     IR-E-I-1075     Indian Institute of Technology Kanpur   \n",
            "4     IR-E-U-0573  Indian Institute of Technology Kharagpur   \n",
            "2     IR-E-U-0306     Indian Institute of Technology Bombay   \n",
            "0     IR-E-U-0456     Indian Institute of Technology Madras   \n",
            "1     IR-E-I-1074      Indian Institute of Technology Delhi   \n",
            "\n",
            "                                                  link    tlr    rpc     go  \\\n",
            "198  https://nirfcdn.azureedge.net/2020/pdf/Enginee...  49.16   0.46  53.74   \n",
            "146  https://nirfcdn.azureedge.net/2020/pdf/Enginee...  59.25   0.71  51.11   \n",
            "186  https://nirfcdn.azureedge.net/2020/pdf/Enginee...  48.80   0.75  56.58   \n",
            "185  https://nirfcdn.azureedge.net/2020/pdf/Enginee...  55.66   1.11  46.87   \n",
            "189  https://nirfcdn.azureedge.net/2020/pdf/Enginee...  53.11   1.15  48.27   \n",
            "..                                                 ...    ...    ...    ...   \n",
            "3    https://nirfcdn.azureedge.net/2020/pdf/Enginee...  86.22  82.08  88.44   \n",
            "4    https://nirfcdn.azureedge.net/2020/pdf/Enginee...  77.32  87.11  83.21   \n",
            "2    https://nirfcdn.azureedge.net/2020/pdf/Enginee...  91.00  93.37  77.60   \n",
            "0    https://nirfcdn.azureedge.net/2020/pdf/Enginee...  95.42  94.64  83.90   \n",
            "1    https://nirfcdn.azureedge.net/2020/pdf/Enginee...  90.79  96.15  80.36   \n",
            "\n",
            "        oi  perception       city           state  score  rank  \n",
            "198  52.98        1.63  Hyderabad       Telangana  31.10   199  \n",
            "146  54.45        0.00     Mandya       Karnataka  33.65   147  \n",
            "186  50.47        2.16  Hyderabad       Telangana  31.46   187  \n",
            "185  50.80        0.00  Bengaluru       Karnataka  31.48   186  \n",
            "189  51.60        2.69    Kurnool  Andhra Pradesh  31.35   190  \n",
            "..     ...         ...        ...             ...    ...   ...  \n",
            "3    54.21       85.78     Kanpur   Uttar Pradesh  82.18     4  \n",
            "4    56.62       89.31  Kharagpur     West Bengal  80.56     5  \n",
            "2    49.99       92.51     Mumbai     Maharashtra  85.08     3  \n",
            "0    61.31      100.00    Chennai      Tamil Nadu  89.93     1  \n",
            "1    64.81       94.46  New Delhi           Delhi  88.08     2  \n",
            "\n",
            "[200 rows x 12 columns]\n"
          ]
        }
      ],
      "source": [
        "sort_records = data.sort_values('rpc')\n",
        "print(sort_records)"
      ]
    },
    {
      "cell_type": "markdown",
      "metadata": {
        "id": "jwTHYBvbUsdM"
      },
      "source": [
        "**Question-4:**  Find the rank of Panjab University as per rpc attribute."
      ]
    },
    {
      "cell_type": "code",
      "execution_count": null,
      "metadata": {
        "colab": {
          "base_uri": "https://localhost:8080/"
        },
        "id": "5s-COx10UwEh",
        "outputId": "8240aa9e-e77b-4d60-ca89-79d34012a7c4"
      },
      "outputs": [
        {
          "output_type": "stream",
          "name": "stdout",
          "text": [
            "25\n"
          ]
        }
      ],
      "source": [
        "sort_records = data.sort_values('rpc', ascending = False)\n",
        "values_data = list(sort_records['name'].values)\n",
        "print(values_data.index('Panjab University'))"
      ]
    },
    {
      "cell_type": "markdown",
      "source": [
        "**Question-5:** List the colleges whose rpc value is less than Panjab University and rank is higher(rank value is less)."
      ],
      "metadata": {
        "id": "gUAZkL3mFeFu"
      }
    },
    {
      "cell_type": "code",
      "source": [
        "rpc_value = data[data['name'] == \"Panjab University\"].values[0]\n",
        "\n",
        "rpc_list = list(rpc_value)\n",
        "rpc_val = rpc_list[4]\n",
        "\n",
        "rank = rpc_list[len(rpc_list) - 1 ]\n",
        "\n",
        "list_of_colleges = data[(data['rpc'] > rpc_val) & (data['rank'] < rank)]\n",
        "\n",
        "print(list_of_colleges['name'])"
      ],
      "metadata": {
        "colab": {
          "base_uri": "https://localhost:8080/"
        },
        "id": "Qqr2zL-tFjwe",
        "outputId": "aae89b0f-b8f1-4d1b-c5e9-4428dbc46035"
      },
      "execution_count": null,
      "outputs": [
        {
          "output_type": "stream",
          "name": "stdout",
          "text": [
            "0                 Indian Institute of Technology Madras\n",
            "1                  Indian Institute of Technology Delhi\n",
            "2                 Indian Institute of Technology Bombay\n",
            "3                 Indian Institute of Technology Kanpur\n",
            "4              Indian Institute of Technology Kharagpur\n",
            "5                Indian Institute of Technology Roorkee\n",
            "6               Indian Institute of Technology Guwahati\n",
            "7              Indian Institute of Technology Hyderabad\n",
            "8      National Institute of Technology Tiruchirappalli\n",
            "9                 Indian Institute of Technology Indore\n",
            "10        Indian Institute of Technology (BHU) Varanasi\n",
            "11    Indian Institute of Technology (Indian School ...\n",
            "12           National Institute of Technology Karnataka\n",
            "13                                      Anna University\n",
            "14                      Vellore Institute of Technology\n",
            "15            National Institute of Technology Rourkela\n",
            "16                                  Jadavpur University\n",
            "17                     Institute of Chemical Technology\n",
            "19                           Amrita Vishwa Vidyapeetham\n",
            "20    Indian Institute of Engineering Science and Te...\n",
            "26        Visvesvaraya National Institute of Technology\n",
            "27                                 Jamia Millia Islamia\n",
            "28         Thapar Institute of Engineering & Technology\n",
            "31                               Amity University Noida\n",
            "38                            Aligarh Muslim University\n",
            "Name: name, dtype: object\n"
          ]
        }
      ]
    },
    {
      "cell_type": "markdown",
      "source": [
        "**Question-6:** Draw the Histogram for colleges based on tlr values by dividing the overall data in 10 bins."
      ],
      "metadata": {
        "id": "FwEGc-dxFmZl"
      }
    },
    {
      "cell_type": "code",
      "source": [
        "plt.hist(list(data['tlr']) , bins = 10 )\n",
        "plt.xlabel(\"tlr values\")\n",
        "plt.ylabel(\"bins\")\n",
        "plt.title(\"Histogram\")\n",
        "plt.show()"
      ],
      "metadata": {
        "colab": {
          "base_uri": "https://localhost:8080/",
          "height": 295
        },
        "id": "3WHvgqmMFnMP",
        "outputId": "87f5707a-4a94-4f69-aa02-b5d4a3fc1fab"
      },
      "execution_count": 9,
      "outputs": [
        {
          "output_type": "display_data",
          "data": {
            "text/plain": [
              "<Figure size 432x288 with 1 Axes>"
            ],
            "image/png": "[encoded data removed]"
          },
          "metadata": {
            "needs_background": "light"
          }
        }
      ]
    }
  ],
  "metadata": {
    "colab": {
      "provenance": [],
      "toc_visible": true
    },
    "kernelspec": {
      "display_name": "Python 3",
      "name": "python3"
    },
    "language_info": {
      "name": "python"
    }
  },
  "nbformat": 4,
  "nbformat_minor": 0
}